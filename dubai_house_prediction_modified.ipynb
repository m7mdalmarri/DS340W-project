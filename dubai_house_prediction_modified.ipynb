{
  "metadata": {
    "kernelspec": {
      "language": "python",
      "display_name": "Python 3",
      "name": "python3"
    },
    "language_info": {
      "name": "python",
      "version": "3.10.13",
      "mimetype": "text/x-python",
      "codemirror_mode": {
        "name": "ipython",
        "version": 3
      },
      "pygments_lexer": "ipython3",
      "nbconvert_exporter": "python",
      "file_extension": ".py"
    },
    "kaggle": {
      "accelerator": "none",
      "dataSources": [
        {
          "sourceId": 7921805,
          "sourceType": "datasetVersion",
          "datasetId": 4655383
        }
      ],
      "dockerImageVersionId": 30673,
      "isInternetEnabled": true,
      "language": "python",
      "sourceType": "notebook",
      "isGpuEnabled": false
    },
    "colab": {
      "provenance": []
    }
  },
  "nbformat_minor": 0,
  "nbformat": 4,
  "cells": [
    {
      "cell_type": "code",
      "source": [
        "# This Python 3 environment comes with many helpful analytics libraries installed\n",
        "# For example, here's several helpful packages to load\n",
        "\n",
        "import numpy as np # linear algebra\n",
        "import pandas as pd # data processing, CSV file I/O (e.g. pd.read_csv)\n",
        "\n",
        "\n",
        "import os\n",
        "for dirname, _, filenames in os.walk('/kaggle/input'):\n",
        "    for filename in filenames:\n",
        "        print(os.path.join(dirname, filename))"
      ],
      "metadata": {
        "_uuid": "8f2839f25d086af736a60e9eeb907d3b93b6e0e5",
        "_cell_guid": "b1076dfc-b9ad-4769-8c92-a6c4dae69d19",
        "execution": {
          "iopub.status.busy": "2024-03-30T15:50:41.953380Z",
          "iopub.execute_input": "2024-03-30T15:50:41.953899Z",
          "iopub.status.idle": "2024-03-30T15:50:41.968358Z",
          "shell.execute_reply.started": "2024-03-30T15:50:41.953861Z",
          "shell.execute_reply": "2024-03-30T15:50:41.967513Z"
        },
        "trusted": true,
        "id": "xnMfSb8MqbZl"
      },
      "execution_count": 2,
      "outputs": []
    },
    {
      "cell_type": "code",
      "source": [
        "from google.colab import drive\n",
        "drive.mount(\"/content/drive/\")\n",
        "\n",
        "# you may need to change the following depending on where you uploaded the file\n",
        "%cd '/content/drive/MyDrive/Colab Notebooks/DS340W'\n",
        "!pwd #Prints the present working directory"
      ],
      "metadata": {
        "colab": {
          "base_uri": "https://localhost:8080/"
        },
        "id": "zI7eYzxgrGEm",
        "outputId": "b5c0894c-fd6c-4e5c-af3d-30631508170d"
      },
      "execution_count": 3,
      "outputs": [
        {
          "output_type": "stream",
          "name": "stdout",
          "text": [
            "Mounted at /content/drive/\n",
            "/content/drive/MyDrive/Colab Notebooks/DS340W\n",
            "/content/drive/MyDrive/Colab Notebooks/DS340W\n"
          ]
        }
      ]
    },
    {
      "cell_type": "code",
      "source": [
        "df = pd.read_csv('cleaned_property_data.csv')\n",
        "print(df.info())\n"
      ],
      "metadata": {
        "execution": {
          "iopub.status.busy": "2024-03-30T15:50:45.198987Z",
          "iopub.execute_input": "2024-03-30T15:50:45.199420Z",
          "iopub.status.idle": "2024-03-30T15:50:45.239419Z",
          "shell.execute_reply.started": "2024-03-30T15:50:45.199387Z",
          "shell.execute_reply": "2024-03-30T15:50:45.237766Z"
        },
        "trusted": true,
        "colab": {
          "base_uri": "https://localhost:8080/"
        },
        "id": "iuLnIgJnqbZp",
        "outputId": "f643222f-3d0f-4d35-cd93-e877ffd5714b"
      },
      "execution_count": 4,
      "outputs": [
        {
          "output_type": "stream",
          "name": "stdout",
          "text": [
            "<class 'pandas.core.frame.DataFrame'>\n",
            "RangeIndex: 1905 entries, 0 to 1904\n",
            "Data columns (total 39 columns):\n",
            " #   Column               Non-Null Count  Dtype  \n",
            "---  ------               --------------  -----  \n",
            " 0   id                   1905 non-null   int64  \n",
            " 1   neighborhood         1905 non-null   object \n",
            " 2   latitude             1905 non-null   float64\n",
            " 3   longitude            1905 non-null   float64\n",
            " 4   price                1905 non-null   int64  \n",
            " 5   size_in_sqft         1905 non-null   int64  \n",
            " 6   price_per_sqft       1905 non-null   float64\n",
            " 7   no_of_bedrooms       1905 non-null   int64  \n",
            " 8   no_of_bathrooms      1905 non-null   int64  \n",
            " 9   quality              1905 non-null   object \n",
            " 10  amenities            1615 non-null   object \n",
            " 11  maid_room            1905 non-null   bool   \n",
            " 12  unfurnished          1905 non-null   bool   \n",
            " 13  balcony              1905 non-null   bool   \n",
            " 14  barbecue_area        1905 non-null   bool   \n",
            " 15  built_in_wardrobes   1905 non-null   bool   \n",
            " 16  central_ac           1905 non-null   bool   \n",
            " 17  childrens_play_area  1905 non-null   bool   \n",
            " 18  childrens_pool       1905 non-null   bool   \n",
            " 19  concierge            1905 non-null   bool   \n",
            " 20  covered_parking      1905 non-null   bool   \n",
            " 21  kitchen_appliances   1905 non-null   bool   \n",
            " 22  lobby_in_building    1905 non-null   bool   \n",
            " 23  maid_service         1905 non-null   bool   \n",
            " 24  networked            1905 non-null   bool   \n",
            " 25  pets_allowed         1905 non-null   bool   \n",
            " 26  private_garden       1905 non-null   bool   \n",
            " 27  private_gym          1905 non-null   bool   \n",
            " 28  private_jacuzzi      1905 non-null   bool   \n",
            " 29  private_pool         1905 non-null   bool   \n",
            " 30  security             1905 non-null   bool   \n",
            " 31  shared_gym           1905 non-null   bool   \n",
            " 32  shared_pool          1905 non-null   bool   \n",
            " 33  shared_spa           1905 non-null   bool   \n",
            " 34  study                1905 non-null   bool   \n",
            " 35  vastu_compliant      1905 non-null   bool   \n",
            " 36  view_of_landmark     1905 non-null   bool   \n",
            " 37  view_of_water        1905 non-null   bool   \n",
            " 38  walk_in_closet       1905 non-null   bool   \n",
            "dtypes: bool(28), float64(3), int64(5), object(3)\n",
            "memory usage: 215.9+ KB\n",
            "None\n"
          ]
        }
      ]
    },
    {
      "cell_type": "code",
      "source": [
        "df = df.drop('amenities', axis= 1)"
      ],
      "metadata": {
        "execution": {
          "iopub.status.busy": "2024-03-30T15:50:48.632459Z",
          "iopub.execute_input": "2024-03-30T15:50:48.633627Z",
          "iopub.status.idle": "2024-03-30T15:50:48.639587Z",
          "shell.execute_reply.started": "2024-03-30T15:50:48.633589Z",
          "shell.execute_reply": "2024-03-30T15:50:48.638387Z"
        },
        "trusted": true,
        "id": "qOeXBUmfqbZq"
      },
      "execution_count": 5,
      "outputs": []
    },
    {
      "cell_type": "code",
      "source": [
        "df['quality'].unique()\n"
      ],
      "metadata": {
        "execution": {
          "iopub.status.busy": "2024-03-30T15:50:51.126960Z",
          "iopub.execute_input": "2024-03-30T15:50:51.128192Z",
          "iopub.status.idle": "2024-03-30T15:50:51.136353Z",
          "shell.execute_reply.started": "2024-03-30T15:50:51.128151Z",
          "shell.execute_reply": "2024-03-30T15:50:51.135165Z"
        },
        "trusted": true,
        "colab": {
          "base_uri": "https://localhost:8080/"
        },
        "id": "-OFkjBvQqbZq",
        "outputId": "b6514275-b141-4dcd-e015-04e39e3d5255"
      },
      "execution_count": 6,
      "outputs": [
        {
          "output_type": "execute_result",
          "data": {
            "text/plain": [
              "array(['Medium', 'Low', 'High', 'Ultra'], dtype=object)"
            ]
          },
          "metadata": {},
          "execution_count": 6
        }
      ]
    },
    {
      "cell_type": "markdown",
      "source": [
        "## **Encode Categorical data**"
      ],
      "metadata": {
        "id": "h0GYiHBNqbZr"
      }
    },
    {
      "cell_type": "code",
      "source": [
        "# Define the ordinal mapping dictionary\n",
        "ordinal_mapping = {\n",
        "    'Low': 0,\n",
        "    'Medium': 1,\n",
        "    'High': 2,\n",
        "    'Ultra': 3\n",
        "}\n",
        "\n",
        "# Apply ordinal encoding to the 'quality' column\n",
        "df['quality'] = df['quality'].map(ordinal_mapping)\n",
        "\n",
        "df = pd.get_dummies(df, columns = ['neighborhood'])\n",
        "print(df)"
      ],
      "metadata": {
        "execution": {
          "iopub.status.busy": "2024-03-30T15:50:53.517756Z",
          "iopub.execute_input": "2024-03-30T15:50:53.518413Z",
          "iopub.status.idle": "2024-03-30T15:50:53.542751Z",
          "shell.execute_reply.started": "2024-03-30T15:50:53.518369Z",
          "shell.execute_reply": "2024-03-30T15:50:53.541416Z"
        },
        "trusted": true,
        "colab": {
          "base_uri": "https://localhost:8080/"
        },
        "id": "bdcSqKzPqbZs",
        "outputId": "7bd9f029-dcdc-4487-96ec-d43a06f4074f"
      },
      "execution_count": 7,
      "outputs": [
        {
          "output_type": "stream",
          "name": "stdout",
          "text": [
            "           id   latitude  longitude    price  size_in_sqft  price_per_sqft  \\\n",
            "0     5528049  25.113208  55.138932  2700000          1079         2502.32   \n",
            "1     6008529  25.106809  55.151201  2850000          1582         1801.52   \n",
            "2     6034542  25.063302  55.137728  1150000          1951          589.44   \n",
            "3     6326063  25.227295  55.341761  2850000          2020         1410.89   \n",
            "4     6356778  25.114275  55.139764  1729200           507         3410.65   \n",
            "...       ...        ...        ...      ...           ...             ...   \n",
            "1900  7705450  25.176892  55.310712  1500000          1087         1379.94   \n",
            "1901  7706287  25.166145  55.276684  1230000           760         1618.42   \n",
            "1902  7706389  25.206500  55.345056  2900000          1930         1502.59   \n",
            "1903  7706591  25.073858  55.229844   675000           740          912.16   \n",
            "1904  7706643  25.079130  55.154713   760887           800          951.11   \n",
            "\n",
            "      no_of_bedrooms  no_of_bathrooms  quality  maid_room  ...  \\\n",
            "0                  1                2        1      False  ...   \n",
            "1                  2                2        1      False  ...   \n",
            "2                  3                5        1       True  ...   \n",
            "3                  2                3        0      False  ...   \n",
            "4                  0                1        1      False  ...   \n",
            "...              ...              ...      ...        ...  ...   \n",
            "1900               2                2        3      False  ...   \n",
            "1901               1                2        1      False  ...   \n",
            "1902               3                5        1       True  ...   \n",
            "1903               1                2        1      False  ...   \n",
            "1904               1                2        2      False  ...   \n",
            "\n",
            "      neighborhood_Mudon  neighborhood_Old Town  neighborhood_Palm Jumeirah  \\\n",
            "0                  False                  False                        True   \n",
            "1                  False                  False                        True   \n",
            "2                  False                  False                       False   \n",
            "3                  False                  False                       False   \n",
            "4                  False                  False                        True   \n",
            "...                  ...                    ...                         ...   \n",
            "1900               False                  False                       False   \n",
            "1901               False                  False                       False   \n",
            "1902               False                  False                       False   \n",
            "1903               False                  False                       False   \n",
            "1904               False                  False                       False   \n",
            "\n",
            "      neighborhood_Remraam  neighborhood_The Hills  neighborhood_The Views  \\\n",
            "0                    False                   False                   False   \n",
            "1                    False                   False                   False   \n",
            "2                    False                   False                   False   \n",
            "3                    False                   False                   False   \n",
            "4                    False                   False                   False   \n",
            "...                    ...                     ...                     ...   \n",
            "1900                 False                   False                   False   \n",
            "1901                 False                   False                   False   \n",
            "1902                 False                   False                   False   \n",
            "1903                 False                   False                   False   \n",
            "1904                 False                   False                   False   \n",
            "\n",
            "      neighborhood_Town Square  neighborhood_Umm Suqeim  \\\n",
            "0                        False                    False   \n",
            "1                        False                    False   \n",
            "2                        False                    False   \n",
            "3                        False                    False   \n",
            "4                        False                    False   \n",
            "...                        ...                      ...   \n",
            "1900                     False                    False   \n",
            "1901                     False                    False   \n",
            "1902                     False                    False   \n",
            "1903                     False                    False   \n",
            "1904                     False                    False   \n",
            "\n",
            "      neighborhood_World Trade Center  neighborhood_wasl gate  \n",
            "0                               False                   False  \n",
            "1                               False                   False  \n",
            "2                               False                   False  \n",
            "3                               False                   False  \n",
            "4                               False                   False  \n",
            "...                               ...                     ...  \n",
            "1900                            False                   False  \n",
            "1901                            False                   False  \n",
            "1902                            False                   False  \n",
            "1903                            False                   False  \n",
            "1904                            False                   False  \n",
            "\n",
            "[1905 rows x 91 columns]\n"
          ]
        }
      ]
    },
    {
      "cell_type": "markdown",
      "source": [
        "# **Decision Tree Regressor**"
      ],
      "metadata": {
        "id": "FskArWSzqbZs"
      }
    },
    {
      "cell_type": "code",
      "source": [
        "# Import necessary libraries\n",
        "import pandas as pd\n",
        "from sklearn.model_selection import train_test_split\n",
        "from sklearn.tree import DecisionTreeRegressor\n",
        "from sklearn.metrics import r2_score\n",
        "\n",
        "# Copy the dataset\n",
        "data = df.copy()\n",
        "\n",
        "# Split the data into features (X) and target variable (y)\n",
        "X = data.drop(['id', 'price'], axis=1)  # Features\n",
        "y = data['price']  # Target variable\n",
        "\n",
        "# Split the data into training and testing sets\n",
        "X_train, X_test, y_train, y_test = train_test_split(X, y, test_size=0.25, random_state=51)\n",
        "\n",
        "# Initialize the decision tree regressor\n",
        "dt_regressor = DecisionTreeRegressor()\n",
        "\n",
        "# Train the model\n",
        "dt_regressor.fit(X_train, y_train)\n",
        "\n",
        "# Make predictions\n",
        "y_pred = dt_regressor.predict(X_test)\n",
        "\n",
        "# Calculate R^2 score\n",
        "r2_decision_tree = r2_score(y_test, y_pred)\n",
        "print(\"R^2 Score:\", r2_decision_tree)"
      ],
      "metadata": {
        "execution": {
          "iopub.status.busy": "2024-03-30T15:50:57.112277Z",
          "iopub.execute_input": "2024-03-30T15:50:57.112677Z",
          "iopub.status.idle": "2024-03-30T15:50:57.153176Z",
          "shell.execute_reply.started": "2024-03-30T15:50:57.112633Z",
          "shell.execute_reply": "2024-03-30T15:50:57.151861Z"
        },
        "trusted": true,
        "colab": {
          "base_uri": "https://localhost:8080/"
        },
        "id": "fwjIzPKzqbZt",
        "outputId": "79b9eca3-b173-4363-d7f8-67ac25d972da"
      },
      "execution_count": 8,
      "outputs": [
        {
          "output_type": "stream",
          "name": "stdout",
          "text": [
            "R^2 Score: 0.9649359049867\n"
          ]
        }
      ]
    },
    {
      "cell_type": "markdown",
      "source": [
        "# **Random Forest**"
      ],
      "metadata": {
        "id": "5pRk9mJ7qbZt"
      }
    },
    {
      "cell_type": "code",
      "source": [
        "import pandas as pd\n",
        "from sklearn.model_selection import train_test_split\n",
        "from sklearn.ensemble import RandomForestRegressor\n",
        "from sklearn.metrics import r2_score\n",
        "from sklearn.preprocessing import LabelEncoder\n",
        "\n",
        "# Copy the dataset\n",
        "data = df\n",
        "\n",
        "# Drop columns not needed for prediction\n",
        "X = data.drop(['id', 'price'], axis=1)\n",
        "y = data['price']\n",
        "\n",
        "# Split the data into train and test sets\n",
        "X_train, X_test, y_train, y_test = train_test_split(X, y, test_size=0.25, random_state=51)\n",
        "\n",
        "# Initialize and train the Random Forest Regressor\n",
        "rf_regressor = RandomForestRegressor(random_state=42)\n",
        "rf_regressor.fit(X_train, y_train)\n",
        "\n",
        "# Predict prices\n",
        "y_pred = rf_regressor.predict(X_test)\n",
        "\n",
        "# Calculate R^2 score\n",
        "r2_random_forest = r2_score(y_test, y_pred)\n",
        "print(\"R^2 Score:\", r2_random_forest)\n"
      ],
      "metadata": {
        "execution": {
          "iopub.status.busy": "2024-03-30T15:50:59.382981Z",
          "iopub.execute_input": "2024-03-30T15:50:59.383777Z",
          "iopub.status.idle": "2024-03-30T15:51:00.768954Z",
          "shell.execute_reply.started": "2024-03-30T15:50:59.383737Z",
          "shell.execute_reply": "2024-03-30T15:51:00.767707Z"
        },
        "trusted": true,
        "colab": {
          "base_uri": "https://localhost:8080/"
        },
        "id": "gIfFRQHvqbZu",
        "outputId": "0581164c-e51f-4115-9f3e-f40fe0062def"
      },
      "execution_count": 9,
      "outputs": [
        {
          "output_type": "stream",
          "name": "stdout",
          "text": [
            "R^2 Score: 0.9868434037944521\n"
          ]
        }
      ]
    },
    {
      "cell_type": "markdown",
      "source": [
        "# **KNN**"
      ],
      "metadata": {
        "id": "8hUJfEAgqbZu"
      }
    },
    {
      "cell_type": "code",
      "source": [
        "import pandas as pd\n",
        "from sklearn.model_selection import train_test_split\n",
        "from sklearn.preprocessing import StandardScaler\n",
        "from sklearn.neighbors import KNeighborsRegressor\n",
        "from sklearn.metrics import r2_score\n",
        "\n",
        "# Copy the dataset\n",
        "data = df\n",
        "\n",
        "# Drop columns not needed for prediction\n",
        "X = data.drop(['id', 'price'], axis=1)\n",
        "y = data['price']\n",
        "\n",
        "# Split the data into training and testing sets\n",
        "X_train, X_test, y_train, y_test = train_test_split(X, y, test_size=0.25, random_state=51)\n",
        "\n",
        "# Train the KNN model\n",
        "k = 17  # Number of neighbors\n",
        "knn = KNeighborsRegressor(n_neighbors=k)\n",
        "knn.fit(X_train, y_train)\n",
        "\n",
        "# Make predictions\n",
        "y_pred = knn.predict(X_test)\n",
        "\n",
        "# Calculate R^2 score\n",
        "r2_knn = r2_score(y_test, y_pred)\n",
        "print(\"R^2 Score:\", r2_knn)"
      ],
      "metadata": {
        "execution": {
          "iopub.status.busy": "2024-03-30T15:58:46.983475Z",
          "iopub.execute_input": "2024-03-30T15:58:46.984460Z",
          "iopub.status.idle": "2024-03-30T15:58:47.023908Z",
          "shell.execute_reply.started": "2024-03-30T15:58:46.984420Z",
          "shell.execute_reply": "2024-03-30T15:58:47.022777Z"
        },
        "trusted": true,
        "colab": {
          "base_uri": "https://localhost:8080/"
        },
        "id": "eIwLbbw3qbZu",
        "outputId": "86472a6e-4565-48e4-d2ee-8b05bac588f9"
      },
      "execution_count": 10,
      "outputs": [
        {
          "output_type": "stream",
          "name": "stdout",
          "text": [
            "R^2 Score: 0.9379318095020847\n"
          ]
        }
      ]
    },
    {
      "cell_type": "markdown",
      "source": [
        "# **Linear Regression**"
      ],
      "metadata": {
        "id": "aSlXqRbfqbZv"
      }
    },
    {
      "cell_type": "code",
      "source": [
        "import pandas as pd\n",
        "from sklearn.model_selection import train_test_split\n",
        "from sklearn.linear_model import LinearRegression\n",
        "from sklearn.metrics import r2_score\n",
        "\n",
        "# Copy the dataset\n",
        "data = df\n",
        "\n",
        "# Prepare the features and target variable\n",
        "X = data.drop(columns=['id', 'price'])  # Features\n",
        "y = data['price']  # Target variable\n",
        "\n",
        "# Split the data into training and testing sets\n",
        "X_train, X_test, y_train, y_test = train_test_split(X, y, test_size=0.25, random_state=51)\n",
        "\n",
        "# Initialize the linear regression model\n",
        "model = LinearRegression()\n",
        "\n",
        "# Train the model\n",
        "model.fit(X_train, y_train)\n",
        "\n",
        "# Make predictions on the testing data\n",
        "y_pred = model.predict(X_test)\n",
        "\n",
        "# Calculate the R-squared (R2) score\n",
        "r2_linear_reg = r2_score(y_test, y_pred)\n",
        "print(\"R^2 score:\", r2_linear_reg)"
      ],
      "metadata": {
        "execution": {
          "iopub.status.busy": "2024-03-30T15:51:05.176763Z",
          "iopub.execute_input": "2024-03-30T15:51:05.177125Z",
          "iopub.status.idle": "2024-03-30T15:51:05.222878Z",
          "shell.execute_reply.started": "2024-03-30T15:51:05.177097Z",
          "shell.execute_reply": "2024-03-30T15:51:05.221273Z"
        },
        "trusted": true,
        "colab": {
          "base_uri": "https://localhost:8080/"
        },
        "id": "2YqdxIM7qbZv",
        "outputId": "6114994e-5fe8-4afb-af5c-192f2ad4190f"
      },
      "execution_count": 11,
      "outputs": [
        {
          "output_type": "stream",
          "name": "stdout",
          "text": [
            "R^2 score: 0.9196621671199735\n"
          ]
        }
      ]
    },
    {
      "cell_type": "markdown",
      "source": [
        "# **Support Vector Regression**"
      ],
      "metadata": {
        "id": "DN3s34GlqbZv"
      }
    },
    {
      "cell_type": "code",
      "source": [
        "from sklearn.model_selection import train_test_split\n",
        "from sklearn.svm import SVR\n",
        "from sklearn.preprocessing import StandardScaler\n",
        "from sklearn.metrics import r2_score\n",
        "import pandas as pd\n",
        "\n",
        "# Copy the dataset\n",
        "data = df\n",
        "\n",
        "# Split the data into features (X) and target variable (y)\n",
        "X = data.drop(columns=['id', 'price'])  # Exclude non-numeric and non-useful columns\n",
        "y = data['price']\n",
        "\n",
        "# Split the data into training and testing sets\n",
        "X_train, X_test, y_train, y_test = train_test_split(X, y, test_size=0.25, random_state=51)\n",
        "\n",
        "# Train the SVR model\n",
        "svr = SVR(kernel='linear')\n",
        "svr.fit(X_train, y_train)\n",
        "\n",
        "# Make predictions\n",
        "y_pred = svr.predict(X_test)\n",
        "\n",
        "# Calculate R-squared score\n",
        "r2_svr = r2_score(y_test, y_pred)\n",
        "print(\"R^2 score:\", r2_svr)\n"
      ],
      "metadata": {
        "execution": {
          "iopub.status.busy": "2024-03-30T15:51:08.084132Z",
          "iopub.execute_input": "2024-03-30T15:51:08.084529Z",
          "iopub.status.idle": "2024-03-30T15:51:08.381703Z",
          "shell.execute_reply.started": "2024-03-30T15:51:08.084499Z",
          "shell.execute_reply": "2024-03-30T15:51:08.380742Z"
        },
        "trusted": true,
        "colab": {
          "base_uri": "https://localhost:8080/"
        },
        "id": "zXf0hZ6jqbZv",
        "outputId": "5a919f2c-2ead-4887-b04a-f2adabe3aa73"
      },
      "execution_count": 12,
      "outputs": [
        {
          "output_type": "stream",
          "name": "stdout",
          "text": [
            "R^2 score: 0.7130553097863839\n"
          ]
        }
      ]
    },
    {
      "cell_type": "markdown",
      "source": [
        "# **Boosted Regression Trees**"
      ],
      "metadata": {
        "id": "1ebpcLXyqbZv"
      }
    },
    {
      "cell_type": "code",
      "source": [
        "from sklearn.model_selection import train_test_split\n",
        "from sklearn.ensemble import GradientBoostingRegressor\n",
        "from sklearn.metrics import r2_score\n",
        "\n",
        "# Copy the dataset\n",
        "data = df\n",
        "\n",
        "# Split the data into features (X) and target variable (y)\n",
        "X = data.drop(columns=['id', 'price'])  # Exclude non-numeric and non-useful columns\n",
        "y = data['price']\n",
        "\n",
        "# Splitting the data into training and testing sets\n",
        "X_train, X_test, y_train, y_test = train_test_split(X, y, test_size=0.25, random_state=51)\n",
        "\n",
        "# Initializing the Gradient Boosting Regressor\n",
        "boosted_regressor = GradientBoostingRegressor(random_state=42)\n",
        "\n",
        "# Fitting the model to the training data\n",
        "boosted_regressor.fit(X_train, y_train)\n",
        "\n",
        "# Making predictions on the testing data\n",
        "y_pred = boosted_regressor.predict(X_test)\n",
        "\n",
        "# Calculating the R^2 score\n",
        "r2_boosted_trees = r2_score(y_test, y_pred)\n",
        "print(\"R^2 Score:\", r2_boosted_trees)"
      ],
      "metadata": {
        "execution": {
          "iopub.status.busy": "2024-03-30T15:51:10.719950Z",
          "iopub.execute_input": "2024-03-30T15:51:10.720598Z",
          "iopub.status.idle": "2024-03-30T15:51:11.179034Z",
          "shell.execute_reply.started": "2024-03-30T15:51:10.720565Z",
          "shell.execute_reply": "2024-03-30T15:51:11.177854Z"
        },
        "trusted": true,
        "colab": {
          "base_uri": "https://localhost:8080/"
        },
        "id": "sVgK-85gqbZv",
        "outputId": "27a6c8eb-79cb-4c61-cf40-ef0f677ef638"
      },
      "execution_count": 13,
      "outputs": [
        {
          "output_type": "stream",
          "name": "stdout",
          "text": [
            "R^2 Score: 0.9702231201119202\n"
          ]
        }
      ]
    },
    {
      "cell_type": "markdown",
      "source": [
        "# **Lasso Regression**"
      ],
      "metadata": {
        "id": "MRn4Lr3yqbZw"
      }
    },
    {
      "cell_type": "code",
      "source": [
        "import pandas as pd\n",
        "from sklearn.model_selection import train_test_split\n",
        "from sklearn.linear_model import Lasso\n",
        "from sklearn.metrics import r2_score\n",
        "\n",
        "# Copy the dataset\n",
        "data = df\n",
        "\n",
        "# Prepare the features and target variable\n",
        "X = data.drop(columns=['id', 'price'])  # Features\n",
        "y = data['price']  # Target variable\n",
        "\n",
        "# Split the data into training and testing sets\n",
        "X_train, X_test, y_train, y_test = train_test_split(X, y, test_size=0.25, random_state=51)\n",
        "\n",
        "# Initialize the lasso regression model\n",
        "model = Lasso(alpha=105, random_state=50)\n",
        "\n",
        "# Train the model\n",
        "model.fit(X_train, y_train)\n",
        "\n",
        "# Make predictions on the testing data\n",
        "y_pred = model.predict(X_test)\n",
        "\n",
        "# Calculate the R-squared (R2) score\n",
        "r2_lasso = r2_score(y_test, y_pred)\n",
        "print(\"R^2 score:\", r2_lasso)"
      ],
      "metadata": {
        "execution": {
          "iopub.status.busy": "2024-03-30T15:51:13.428925Z",
          "iopub.execute_input": "2024-03-30T15:51:13.429353Z",
          "iopub.status.idle": "2024-03-30T15:51:13.642577Z",
          "shell.execute_reply.started": "2024-03-30T15:51:13.429320Z",
          "shell.execute_reply": "2024-03-30T15:51:13.641191Z"
        },
        "trusted": true,
        "colab": {
          "base_uri": "https://localhost:8080/"
        },
        "id": "g_nhqVQqqbZw",
        "outputId": "0e1d5004-f81e-4580-94ed-29101b1a6c8f"
      },
      "execution_count": 14,
      "outputs": [
        {
          "output_type": "stream",
          "name": "stdout",
          "text": [
            "R^2 score: 0.921563875461565\n"
          ]
        }
      ]
    },
    {
      "cell_type": "markdown",
      "source": [
        "# **Elastic Regression**"
      ],
      "metadata": {
        "id": "7p3gNSgwqbZw"
      }
    },
    {
      "cell_type": "code",
      "source": [
        "import pandas as pd\n",
        "from sklearn.model_selection import train_test_split\n",
        "from sklearn.linear_model import ElasticNet\n",
        "from sklearn.metrics import r2_score\n",
        "\n",
        "# Copy the dataset\n",
        "data = df\n",
        "\n",
        "# Prepare the features and target variable\n",
        "X = data.drop(columns=['id', 'price'])  # Features\n",
        "y = data['price']  # Target variable\n",
        "\n",
        "# Split the data into training and testing sets\n",
        "X_train, X_test, y_train, y_test = train_test_split(X, y, test_size=0.25, random_state=51)\n",
        "\n",
        "# Initialize the ElasticNet regression model\n",
        "model = ElasticNet(alpha=0.1, l1_ratio=0.5, random_state=42)\n",
        "\n",
        "# Train the model\n",
        "model.fit(X_train, y_train)\n",
        "\n",
        "# Make predictions on the testing data\n",
        "y_pred = model.predict(X_test)\n",
        "\n",
        "# Calculate the R-squared (R2) score\n",
        "r2_elasticnet = r2_score(y_test, y_pred)\n",
        "print(\"R^2 score:\", r2_elasticnet)"
      ],
      "metadata": {
        "execution": {
          "iopub.status.busy": "2024-03-30T15:51:15.817375Z",
          "iopub.execute_input": "2024-03-30T15:51:15.817780Z",
          "iopub.status.idle": "2024-03-30T15:51:15.867999Z",
          "shell.execute_reply.started": "2024-03-30T15:51:15.817748Z",
          "shell.execute_reply": "2024-03-30T15:51:15.866517Z"
        },
        "trusted": true,
        "colab": {
          "base_uri": "https://localhost:8080/"
        },
        "id": "IsaehRi0qbZw",
        "outputId": "d99d620c-1f0c-497b-a1d4-253ca84e325e"
      },
      "execution_count": 15,
      "outputs": [
        {
          "output_type": "stream",
          "name": "stdout",
          "text": [
            "R^2 score: 0.908343318044503\n"
          ]
        }
      ]
    },
    {
      "cell_type": "markdown",
      "source": [
        "# **Comparison**"
      ],
      "metadata": {
        "id": "ClDGZth8qbZw"
      }
    },
    {
      "cell_type": "code",
      "source": [
        "import matplotlib.pyplot as plt\n",
        "\n",
        "# List of model names\n",
        "models = ['Boosted Trees', 'Support Vector Regression', 'Linear Regression',\n",
        "          'KNN', 'Random Forest', 'Decision Tree Regressor', 'Lasso Regression', 'ElasticNet Regression']\n",
        "\n",
        "# Corresponding R^2 scores\n",
        "r2_scores = [r2_boosted_trees, r2_svr, r2_linear_reg, r2_knn, r2_random_forest,\n",
        "             r2_decision_tree, r2_lasso, r2_elasticnet]\n",
        "\n",
        "# Creating the bar chart\n",
        "plt.figure(figsize=(10, 6))\n",
        "plt.bar(models, r2_scores, color='skyblue')\n",
        "plt.xlabel('Model')\n",
        "plt.ylabel('R^2 Score')\n",
        "plt.title('Comparison of R^2 Scores for Different Machine Learning Models')\n",
        "plt.xticks(rotation=45, ha='right')\n",
        "plt.tight_layout()\n",
        "plt.show()"
      ],
      "metadata": {
        "execution": {
          "iopub.status.busy": "2024-03-30T15:59:00.067948Z",
          "iopub.execute_input": "2024-03-30T15:59:00.068342Z",
          "iopub.status.idle": "2024-03-30T15:59:00.478630Z",
          "shell.execute_reply.started": "2024-03-30T15:59:00.068313Z",
          "shell.execute_reply": "2024-03-30T15:59:00.477236Z"
        },
        "trusted": true,
        "colab": {
          "base_uri": "https://localhost:8080/",
          "height": 607
        },
        "id": "h6Roo6PoqbZw",
        "outputId": "88d3ef21-4d7a-4b2f-fee1-0e0dddbae778"
      },
      "execution_count": 16,
      "outputs": [
        {
          "output_type": "display_data",
          "data": {
            "text/plain": [
              "<Figure size 1000x600 with 1 Axes>"
            ],
            "image/png": "[encoded data removed]"
          },
          "metadata": {}
        }
      ]
    },
    {
      "cell_type": "code",
      "source": [],
      "metadata": {
        "id": "mlfyzJhYqbZx"
      },
      "execution_count": 16,
      "outputs": []
    }
  ]
}